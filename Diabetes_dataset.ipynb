{
  "nbformat": 4,
  "nbformat_minor": 0,
  "metadata": {
    "colab": {
      "provenance": []
    },
    "kernelspec": {
      "name": "python3",
      "display_name": "Python 3"
    },
    "language_info": {
      "name": "python"
    }
  },
  "cells": [
    {
      "cell_type": "code",
      "execution_count": null,
      "metadata": {
        "id": "5gmRNo-bztfy"
      },
      "outputs": [],
      "source": [
        "import pickle\n",
        "from sklearn.datasets import load_diabetes\n",
        "ld=load_diabetes()\n",
        "x=ld.data\n",
        "y=ld.target\n",
        "from sklearn.preprocessing import StandardScaler  #normalize x\n",
        "from keras.callbacks import EarlyStopping\n",
        "#es=EarlyStopping(monitor='accuracy',patience=3, mode='auto',min_delta=0.001)    #accuracy\n",
        "es=EarlyStopping(monitor='val_loss',patience=3, mode='min',min_delta=0.001)     # validation loss\n",
        "ss=StandardScaler()\n",
        "x1=ss.fit_transform(x)\n",
        "from sklearn.model_selection import train_test_split\n",
        "xtrain,xtest,ytrain,ytest=train_test_split(x1,y,test_size=0.2)\n",
        "from keras.models import Sequential\n",
        "from keras.layers import Dense\n",
        "model=Sequential()\n",
        "model.add(Dense(32,activation='relu',input_dim=10))  #hidden layer1\n",
        "model.add(Dense(32,activation='relu'))      # hidden layer\n",
        "model.add(Dense(5,activation='relu'))       # hidden layer\n",
        "model.add(Dense(1,activation='relu'))      # output layer\n",
        "model.compile(optimizer='adam',loss='mean_squared_error')\n",
        "# model fitting\n",
        "#model.fit(xtrain,ytrain,epochs=500)"
      ]
    },
    {
      "cell_type": "code",
      "source": [
        "#model.fit(xtrain,ytrain,epochs=1000,callbacks=[es])\n",
        "hs=model.fit(xtrain,ytrain,validation_data=(xtest,ytest),epochs=1000,callbacks=[es])"
      ],
      "metadata": {
        "id": "Po-YZ-r202Wj"
      },
      "execution_count": null,
      "outputs": []
    },
    {
      "cell_type": "code",
      "source": [
        "hs.history.keys()"
      ],
      "metadata": {
        "colab": {
          "base_uri": "https://localhost:8080/"
        },
        "id": "0Y0SvrA52ph0",
        "outputId": "a27dfff1-1477-41df-91a8-bc05dd69928c"
      },
      "execution_count": null,
      "outputs": [
        {
          "output_type": "execute_result",
          "data": {
            "text/plain": [
              "dict_keys(['loss', 'val_loss'])"
            ]
          },
          "metadata": {},
          "execution_count": 12
        }
      ]
    },
    {
      "cell_type": "code",
      "source": [
        "import matplotlib.pyplot as plt\n",
        "plt.plot(hs.history['val_loss'])\n",
        "plt.plot(hs.history['loss'])"
      ],
      "metadata": {
        "colab": {
          "base_uri": "https://localhost:8080/",
          "height": 283
        },
        "id": "LMVHrLNCCQXe",
        "outputId": "30964db4-86cd-48d8-986a-4697f5d7e0e5"
      },
      "execution_count": null,
      "outputs": [
        {
          "output_type": "execute_result",
          "data": {
            "text/plain": [
              "[<matplotlib.lines.Line2D at 0x7f65698e8310>]"
            ]
          },
          "metadata": {},
          "execution_count": 13
        },
        {
          "output_type": "display_data",
          "data": {
            "text/plain": [
              "<Figure size 432x288 with 1 Axes>"
            ],
            "image/png": "[encoded data removed]"
          },
          "metadata": {
            "needs_background": "light"
          }
        }
      ]
    },
    {
      "cell_type": "code",
      "source": [],
      "metadata": {
        "id": "qclkbYR8Ddt6"
      },
      "execution_count": null,
      "outputs": []
    }
  ]
}